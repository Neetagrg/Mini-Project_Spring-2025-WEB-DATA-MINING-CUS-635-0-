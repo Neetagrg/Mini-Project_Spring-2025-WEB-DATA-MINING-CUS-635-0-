{
  "nbformat": 4,
  "nbformat_minor": 0,
  "metadata": {
    "colab": {
      "provenance": [],
      "authorship_tag": "ABX9TyMDhGa6iLSZe59G7eht6f+5",
      "include_colab_link": true
    },
    "kernelspec": {
      "name": "python3",
      "display_name": "Python 3"
    },
    "language_info": {
      "name": "python"
    }
  },
  "cells": [
    {
      "cell_type": "markdown",
      "metadata": {
        "id": "view-in-github",
        "colab_type": "text"
      },
      "source": [
        "<a href=\"https://colab.research.google.com/github/Neetagrg/Mini-Project_Spring-2025-WEB-DATA-MINING-CUS-635-0-/blob/main/miniproject635.ipynb\" target=\"_parent\"><img src=\"https://colab.research.google.com/assets/colab-badge.svg\" alt=\"Open In Colab\"/></a>"
      ]
    },
    {
      "cell_type": "markdown",
      "source": [
        "Mini Project: Neeta Kumari & Bir Bahadur Gharti"
      ],
      "metadata": {
        "id": "AwwY6hDi2ANj"
      }
    },
    {
      "cell_type": "code",
      "execution_count": 7,
      "metadata": {
        "colab": {
          "base_uri": "https://localhost:8080/"
        },
        "id": "8iCI9KCGtQfH",
        "outputId": "4bd0f926-2745-4679-a4b3-4632fcbd6f3f"
      },
      "outputs": [
        {
          "output_type": "stream",
          "name": "stdout",
          "text": [
            "Collecting boto3\n",
            "  Downloading boto3-1.37.25-py3-none-any.whl.metadata (6.7 kB)\n",
            "Requirement already satisfied: requests in /usr/local/lib/python3.11/dist-packages (2.32.3)\n",
            "Requirement already satisfied: pandas in /usr/local/lib/python3.11/dist-packages (2.2.2)\n",
            "Collecting botocore<1.38.0,>=1.37.25 (from boto3)\n",
            "  Downloading botocore-1.37.25-py3-none-any.whl.metadata (5.7 kB)\n",
            "Collecting jmespath<2.0.0,>=0.7.1 (from boto3)\n",
            "  Downloading jmespath-1.0.1-py3-none-any.whl.metadata (7.6 kB)\n",
            "Collecting s3transfer<0.12.0,>=0.11.0 (from boto3)\n",
            "  Downloading s3transfer-0.11.4-py3-none-any.whl.metadata (1.7 kB)\n",
            "Requirement already satisfied: charset-normalizer<4,>=2 in /usr/local/lib/python3.11/dist-packages (from requests) (3.4.1)\n",
            "Requirement already satisfied: idna<4,>=2.5 in /usr/local/lib/python3.11/dist-packages (from requests) (3.10)\n",
            "Requirement already satisfied: urllib3<3,>=1.21.1 in /usr/local/lib/python3.11/dist-packages (from requests) (2.3.0)\n",
            "Requirement already satisfied: certifi>=2017.4.17 in /usr/local/lib/python3.11/dist-packages (from requests) (2025.1.31)\n",
            "Requirement already satisfied: numpy>=1.23.2 in /usr/local/lib/python3.11/dist-packages (from pandas) (2.0.2)\n",
            "Requirement already satisfied: python-dateutil>=2.8.2 in /usr/local/lib/python3.11/dist-packages (from pandas) (2.8.2)\n",
            "Requirement already satisfied: pytz>=2020.1 in /usr/local/lib/python3.11/dist-packages (from pandas) (2025.2)\n",
            "Requirement already satisfied: tzdata>=2022.7 in /usr/local/lib/python3.11/dist-packages (from pandas) (2025.2)\n",
            "Requirement already satisfied: six>=1.5 in /usr/local/lib/python3.11/dist-packages (from python-dateutil>=2.8.2->pandas) (1.17.0)\n",
            "Downloading boto3-1.37.25-py3-none-any.whl (139 kB)\n",
            "\u001b[2K   \u001b[90m━━━━━━━━━━━━━━━━━━━━━━━━━━━━━━━━━━━━━━━━\u001b[0m \u001b[32m139.6/139.6 kB\u001b[0m \u001b[31m4.5 MB/s\u001b[0m eta \u001b[36m0:00:00\u001b[0m\n",
            "\u001b[?25hDownloading botocore-1.37.25-py3-none-any.whl (13.5 MB)\n",
            "\u001b[2K   \u001b[90m━━━━━━━━━━━━━━━━━━━━━━━━━━━━━━━━━━━━━━━━\u001b[0m \u001b[32m13.5/13.5 MB\u001b[0m \u001b[31m59.6 MB/s\u001b[0m eta \u001b[36m0:00:00\u001b[0m\n",
            "\u001b[?25hDownloading jmespath-1.0.1-py3-none-any.whl (20 kB)\n",
            "Downloading s3transfer-0.11.4-py3-none-any.whl (84 kB)\n",
            "\u001b[2K   \u001b[90m━━━━━━━━━━━━━━━━━━━━━━━━━━━━━━━━━━━━━━━━\u001b[0m \u001b[32m84.4/84.4 kB\u001b[0m \u001b[31m6.6 MB/s\u001b[0m eta \u001b[36m0:00:00\u001b[0m\n",
            "\u001b[?25hInstalling collected packages: jmespath, botocore, s3transfer, boto3\n",
            "Successfully installed boto3-1.37.25 botocore-1.37.25 jmespath-1.0.1 s3transfer-0.11.4\n"
          ]
        }
      ],
      "source": [
        "!pip install boto3 requests pandas\n"
      ]
    },
    {
      "cell_type": "markdown",
      "source": [
        "# Import the Required Libraries\n"
      ],
      "metadata": {
        "id": "Y-KVBagatdun"
      }
    },
    {
      "cell_type": "code",
      "source": [
        "import os\n",
        "import boto3\n",
        "import requests\n",
        "import pandas as pd\n",
        "from botocore.config import Config\n",
        "from botocore import UNSIGNED\n"
      ],
      "metadata": {
        "id": "rHRseMr-tmRY"
      },
      "execution_count": 8,
      "outputs": []
    },
    {
      "cell_type": "markdown",
      "source": [
        "# Setup the AWS S3 Connection"
      ],
      "metadata": {
        "id": "Z6XTGDmVtpMZ"
      }
    },
    {
      "cell_type": "code",
      "source": [
        "# Team 6 folder\n",
        "TEAM = \"TEAM_6/\"\n",
        "\n",
        "# Define the provided S3 bucket name\n",
        "BUCKET_NAME = \"cus635-spring2025\"\n",
        "\n",
        "# Create an anonymous S3 client\n",
        "s3 = boto3.client('s3', config=Config(signature_version=UNSIGNED))\n"
      ],
      "metadata": {
        "id": "mBzTTmm5uR8z"
      },
      "execution_count": 10,
      "outputs": []
    },
    {
      "cell_type": "markdown",
      "source": [
        "# Fetching Articles from the Guardian API"
      ],
      "metadata": {
        "id": "_dVD31dCuWmQ"
      }
    },
    {
      "cell_type": "markdown",
      "source": [
        "## Save Articles as a CSV"
      ],
      "metadata": {
        "id": "XswnAAk_veWp"
      }
    },
    {
      "cell_type": "code",
      "source": [
        "import requests\n",
        "import pandas as pd\n",
        "from tqdm import tqdm\n",
        "\n",
        "API_URL = \"https://content.guardianapis.com/search\"  # API URL\n",
        "API_KEY = \"80d8126f-3f17-4f76-ab02-e27428b23e63\"   # API Key\n",
        "\n",
        "PAGE_SIZE = 200  # Maximum number of results per request\n",
        "total_articles = []  # List to store all fetched articles\n",
        "\n",
        "# Function to fetch articles with pagination and handle errors\n",
        "def fetch_articles(page_num):\n",
        "    params = {\n",
        "        \"api-key\": API_KEY,\n",
        "        \"section\": \"technology\",\n",
        "        \"q\": \"AI in health\",  # Search query for AI in health\n",
        "        \"page-size\": PAGE_SIZE,  # Limit number of articles per request\n",
        "        \"page\": page_num,  # Page number for pagination\n",
        "        \"show-fields\": \"body\"  # Request the body/content of the article\n",
        "    }\n",
        "\n",
        "    try:\n",
        "        response = requests.get(API_URL, params=params)\n",
        "        response.raise_for_status()  # Will raise an error for bad status codes\n",
        "        return response.json()  # Return the JSON response\n",
        "    except requests.exceptions.RequestException as e:\n",
        "        print(f\"Error fetching page {page_num}: {e}\")\n",
        "        return None\n",
        "\n",
        "# Function to process and store articles\n",
        "def process_articles(articles_data):\n",
        "    if \"response\" not in articles_data or \"results\" not in articles_data[\"response\"]:\n",
        "        print(\"Invalid response format\")\n",
        "        return\n",
        "\n",
        "    articles = articles_data[\"response\"][\"results\"]\n",
        "    for article in articles:\n",
        "        heading = article.get(\"webTitle\", \"No title available\")  # Extracting the title\n",
        "        context = article.get(\"fields\", {}).get(\"body\", \"No content available\")  # Extracting the content\n",
        "\n",
        "        # Clean context: truncate if it's too long and remove unnecessary whitespace\n",
        "        cleaned_context = (context[:500] + \"...\") if len(context) > 500 else context.strip()\n",
        "\n",
        "        total_articles.append({\n",
        "            \"heading\": heading,\n",
        "            \"context\": cleaned_context\n",
        "        })\n",
        "\n",
        "# Fetch initial data to determine the total number of pages\n",
        "initial_data = fetch_articles(1)\n",
        "if not initial_data:\n",
        "    print(\"Failed to fetch initial data. Exiting.\")\n",
        "    exit()\n",
        "\n",
        "# Get the total number of results and calculate the number of pages available\n",
        "total_results = initial_data[\"response\"][\"total\"]\n",
        "total_pages = (total_results // PAGE_SIZE) + (1 if total_results % PAGE_SIZE != 0 else 0)\n",
        "\n",
        "# Fetch and process articles from available pages\n",
        "for page_num in tqdm(range(1, total_pages + 1), desc=\"Fetching pages\", unit=\"page\"):\n",
        "    articles_data = fetch_articles(page_num)\n",
        "    if articles_data:\n",
        "        process_articles(articles_data)\n",
        "    else:\n",
        "        print(f\"Skipping page {page_num} due to an error.\")\n",
        "\n",
        "# Create a DataFrame for better presentation and export\n",
        "df = pd.DataFrame(total_articles)\n",
        "\n",
        "# Save the results to a CSV file for later use\n",
        "df.to_csv(\"AI_in_Health_Articles.csv\", index=False)\n",
        "\n",
        "# Displaying first 5 articles for quick preview\n",
        "print(df.head())\n",
        "\n",
        "# Displaying the total number of articles fetched\n",
        "print(f\"Fetched {len(total_articles)} articles across {total_pages} pages.\")\n"
      ],
      "metadata": {
        "colab": {
          "base_uri": "https://localhost:8080/"
        },
        "id": "UG0yBZ7au3A7",
        "outputId": "107091dc-f956-4ba1-e4cc-19b00c3e01bc"
      },
      "execution_count": 14,
      "outputs": [
        {
          "output_type": "stream",
          "name": "stderr",
          "text": [
            "Fetching pages: 100%|██████████| 14/14 [00:21<00:00,  1.52s/page]"
          ]
        },
        {
          "output_type": "stream",
          "name": "stdout",
          "text": [
            "                                             heading  \\\n",
            "0  AI-driven weather prediction breakthrough repo...   \n",
            "1  Prioritise artists over tech in AI copyright d...   \n",
            "2  EU accused of leaving ‘devastating’ copyright ...   \n",
            "3  AI ‘godfather’ predicts another revolution in ...   \n",
            "4  If the best defence against AI is more AI, thi...   \n",
            "\n",
            "                                             context  \n",
            "0  <p>A single researcher with a desktop computer...  \n",
            "1  <p>Two cross-party committees of MPs have urge...  \n",
            "2  <p>An architect of EU copyright law has said l...  \n",
            "3  <p>One of the “godfathers” of modern artificia...  \n",
            "4  <p>Oscar Wilde’s quip, “Life imitates art far ...  \n",
            "Fetched 2631 articles across 14 pages.\n"
          ]
        },
        {
          "output_type": "stream",
          "name": "stderr",
          "text": [
            "\n"
          ]
        }
      ]
    },
    {
      "cell_type": "markdown",
      "source": [
        "## Upload the CSV to S3 Download a File from **S3**"
      ],
      "metadata": {
        "id": "e2ooXzyWoHb1"
      }
    },
    {
      "cell_type": "code",
      "source": [
        "import boto3\n",
        "from botocore.config import Config\n",
        "from botocore import UNSIGNED\n",
        "\n",
        "# Team - Specify your team number\n",
        "TEAM = \"TEAM_6/\"\n",
        "BUCKET_NAME = \"cus635-spring2025\"\n",
        "\n",
        "# Create an anonymous S3 client\n",
        "s3 = boto3.client('s3', config=Config(signature_version=UNSIGNED))\n",
        "\n",
        "# Download a file from S3\n",
        "object_name = \"AI_in_Health_Articles.csv\"\n",
        "new_name = \"downloaded_AI_in_Health_Articles.csv\"  # New name for the downloaded file\n",
        "\n",
        "s3.download_file(BUCKET_NAME, TEAM + object_name, new_name)\n",
        "print(f\"File '{TEAM + object_name}' downloaded successfully as '{new_name}'!\")\n"
      ],
      "metadata": {
        "id": "bPluyBvgv_Tq",
        "colab": {
          "base_uri": "https://localhost:8080/"
        },
        "outputId": "e47928aa-0b79-419a-f0ab-9fd4accda450"
      },
      "execution_count": 11,
      "outputs": [
        {
          "output_type": "stream",
          "name": "stdout",
          "text": [
            "File 'TEAM_6/AI_in_Health_Articles.csv' downloaded successfully as 'downloaded_AI_in_Health_Articles.csv'!\n"
          ]
        }
      ]
    }
  ]
}