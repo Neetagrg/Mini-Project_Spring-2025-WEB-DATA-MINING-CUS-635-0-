{
  "nbformat": 4,
  "nbformat_minor": 0,
  "metadata": {
    "colab": {
      "provenance": [],
      "authorship_tag": "ABX9TyMC/1l9CuI5HupCeXdP0y8T",
      "include_colab_link": true
    },
    "kernelspec": {
      "name": "python3",
      "display_name": "Python 3"
    },
    "language_info": {
      "name": "python"
    }
  },
  "cells": [
    {
      "cell_type": "markdown",
      "metadata": {
        "id": "view-in-github",
        "colab_type": "text"
      },
      "source": [
        "<a href=\"https://colab.research.google.com/github/Neetagrg/Mini-Project_Spring-2025-WEB-DATA-MINING-CUS-635-0-/blob/main/miniproject635.ipynb\" target=\"_parent\"><img src=\"https://colab.research.google.com/assets/colab-badge.svg\" alt=\"Open In Colab\"/></a>"
      ]
    },
    {
      "cell_type": "markdown",
      "source": [
        "Mini Project: Neeta Kumari & Bir Bahadur Gharti"
      ],
      "metadata": {
        "id": "AwwY6hDi2ANj"
      }
    },
    {
      "cell_type": "code",
      "execution_count": 19,
      "metadata": {
        "colab": {
          "base_uri": "https://localhost:8080/"
        },
        "id": "8iCI9KCGtQfH",
        "outputId": "1cda6af7-4722-4b16-c9fc-245a124733bf"
      },
      "outputs": [
        {
          "output_type": "stream",
          "name": "stdout",
          "text": [
            "Requirement already satisfied: boto3 in /usr/local/lib/python3.11/dist-packages (1.37.20)\n",
            "Requirement already satisfied: requests in /usr/local/lib/python3.11/dist-packages (2.32.3)\n",
            "Requirement already satisfied: pandas in /usr/local/lib/python3.11/dist-packages (2.2.2)\n",
            "Requirement already satisfied: botocore<1.38.0,>=1.37.20 in /usr/local/lib/python3.11/dist-packages (from boto3) (1.37.20)\n",
            "Requirement already satisfied: jmespath<2.0.0,>=0.7.1 in /usr/local/lib/python3.11/dist-packages (from boto3) (1.0.1)\n",
            "Requirement already satisfied: s3transfer<0.12.0,>=0.11.0 in /usr/local/lib/python3.11/dist-packages (from boto3) (0.11.4)\n",
            "Requirement already satisfied: charset-normalizer<4,>=2 in /usr/local/lib/python3.11/dist-packages (from requests) (3.4.1)\n",
            "Requirement already satisfied: idna<4,>=2.5 in /usr/local/lib/python3.11/dist-packages (from requests) (3.10)\n",
            "Requirement already satisfied: urllib3<3,>=1.21.1 in /usr/local/lib/python3.11/dist-packages (from requests) (2.3.0)\n",
            "Requirement already satisfied: certifi>=2017.4.17 in /usr/local/lib/python3.11/dist-packages (from requests) (2025.1.31)\n",
            "Requirement already satisfied: numpy>=1.23.2 in /usr/local/lib/python3.11/dist-packages (from pandas) (2.0.2)\n",
            "Requirement already satisfied: python-dateutil>=2.8.2 in /usr/local/lib/python3.11/dist-packages (from pandas) (2.8.2)\n",
            "Requirement already satisfied: pytz>=2020.1 in /usr/local/lib/python3.11/dist-packages (from pandas) (2025.1)\n",
            "Requirement already satisfied: tzdata>=2022.7 in /usr/local/lib/python3.11/dist-packages (from pandas) (2025.1)\n",
            "Requirement already satisfied: six>=1.5 in /usr/local/lib/python3.11/dist-packages (from python-dateutil>=2.8.2->pandas) (1.17.0)\n"
          ]
        }
      ],
      "source": [
        "!pip install boto3 requests pandas\n"
      ]
    },
    {
      "cell_type": "markdown",
      "source": [
        "# Import the Required Libraries\n"
      ],
      "metadata": {
        "id": "Y-KVBagatdun"
      }
    },
    {
      "cell_type": "code",
      "source": [
        "import os\n",
        "import boto3\n",
        "import requests\n",
        "import pandas as pd\n",
        "from botocore.config import Config\n",
        "from botocore import UNSIGNED\n"
      ],
      "metadata": {
        "id": "rHRseMr-tmRY"
      },
      "execution_count": 20,
      "outputs": []
    },
    {
      "cell_type": "markdown",
      "source": [
        "# Setup the AWS S3 Connection"
      ],
      "metadata": {
        "id": "Z6XTGDmVtpMZ"
      }
    },
    {
      "cell_type": "code",
      "source": [
        "# Team 6 folder\n",
        "TEAM = \"TEAM_6/\"\n",
        "\n",
        "# Define the provided S3 bucket name\n",
        "BUCKET_NAME = \"cus635-spring2025\"\n",
        "\n",
        "# Create an anonymous S3 client\n",
        "s3 = boto3.client('s3', config=Config(signature_version=UNSIGNED))\n"
      ],
      "metadata": {
        "id": "mBzTTmm5uR8z"
      },
      "execution_count": 21,
      "outputs": []
    },
    {
      "cell_type": "markdown",
      "source": [
        "# Fetching Articles from the Guardian API"
      ],
      "metadata": {
        "id": "_dVD31dCuWmQ"
      }
    },
    {
      "cell_type": "markdown",
      "source": [
        "## Save Articles as a CSV"
      ],
      "metadata": {
        "id": "XswnAAk_veWp"
      }
    },
    {
      "cell_type": "code",
      "source": [
        "import requests\n",
        "import pandas as pd\n",
        "from tqdm import tqdm\n",
        "\n",
        "API_URL = \"https://content.guardianapis.com/search\"  # API URL\n",
        "API_KEY = \"80d8126f-3f17-4f76-ab02-e27428b23e63\"   # API Key\n",
        "\n",
        "PAGE_SIZE = 200  # Maximum number of results per request\n",
        "total_articles = []  # List to store all fetched articles\n",
        "\n",
        "# Function to fetch articles with pagination and handle errors\n",
        "def fetch_articles(page_num):\n",
        "    params = {\n",
        "        \"api-key\": API_KEY,  # Corrected this line by adding a comma\n",
        "        \"section\": \"technology\",\n",
        "        \"q\": \"AI in health\",  # Search query for AI in health\n",
        "        \"page-size\": PAGE_SIZE,  # Limit number of articles per request\n",
        "        \"page\": page_num,  # Page number for pagination\n",
        "        \"show-fields\": \"body\"  # Request the body/content of the article\n",
        "    }\n",
        "\n",
        "    try:\n",
        "        response = requests.get(API_URL, params=params)\n",
        "        response.raise_for_status()  # Will raise an error for bad status codes\n",
        "        return response.json()  # Return the JSON response\n",
        "    except requests.exceptions.RequestException as e:\n",
        "        print(f\"Error fetching page {page_num}: {e}\")\n",
        "        return None\n",
        "\n",
        "# Function to process and store articles\n",
        "def process_articles(articles_data):\n",
        "    if \"response\" not in articles_data or \"results\" not in articles_data[\"response\"]:\n",
        "        print(\"Invalid response format\")\n",
        "        return\n",
        "\n",
        "    articles = articles_data[\"response\"][\"results\"]\n",
        "    for article in articles:\n",
        "        heading = article.get(\"webTitle\", \"No title available\")  # Extracting the title\n",
        "        context = article.get(\"fields\", {}).get(\"body\", \"No content available\")  # Extracting the content\n",
        "\n",
        "        # Clean context: truncate if it's too long and remove unnecessary whitespace\n",
        "        cleaned_context = (context[:500] + \"...\") if len(context) > 500 else context.strip()\n",
        "\n",
        "        total_articles.append({\n",
        "            \"heading\": heading,\n",
        "            \"context\": cleaned_context\n",
        "        })\n",
        "\n",
        "# Fetch initial data to determine the total number of pages\n",
        "initial_data = fetch_articles(1)\n",
        "if not initial_data:\n",
        "    print(\"Failed to fetch initial data. Exiting.\")\n",
        "    exit()\n",
        "\n",
        "# Get the total number of results and calculate the number of pages available\n",
        "total_results = initial_data[\"response\"][\"total\"]\n",
        "total_pages = (total_results // PAGE_SIZE) + (1 if total_results % PAGE_SIZE != 0 else 0)\n",
        "\n",
        "# Fetch and process articles from available pages\n",
        "for page_num in tqdm(range(1, total_pages + 1), desc=\"Fetching pages\", unit=\"page\"):\n",
        "    articles_data = fetch_articles(page_num)\n",
        "    if articles_data:\n",
        "        process_articles(articles_data)\n",
        "    else:\n",
        "        print(f\"Skipping page {page_num} due to an error.\")\n",
        "\n",
        "# Create a DataFrame for better presentation and export\n",
        "df = pd.DataFrame(total_articles)\n",
        "\n",
        "# Save the results to a CSV file for later use\n",
        "df.to_csv(\"AI_in_Health_Articles.csv\", index=False)\n",
        "\n",
        "# Displaying first 5 articles for quick preview\n",
        "print(df.head())\n",
        "\n",
        "# Displaying the total number of articles fetched\n",
        "print(f\"Fetched {len(total_articles)} articles across {total_pages} pages.\")\n"
      ],
      "metadata": {
        "colab": {
          "base_uri": "https://localhost:8080/"
        },
        "id": "UG0yBZ7au3A7",
        "outputId": "880f2945-9c36-40b2-c7b0-2ed074c7a898"
      },
      "execution_count": 22,
      "outputs": [
        {
          "output_type": "stream",
          "name": "stderr",
          "text": [
            "Fetching pages: 100%|██████████| 14/14 [00:15<00:00,  1.11s/page]"
          ]
        },
        {
          "output_type": "stream",
          "name": "stdout",
          "text": [
            "                                             heading  \\\n",
            "0  AI-driven weather prediction breakthrough repo...   \n",
            "1  Prioritise artists over tech in AI copyright d...   \n",
            "2  EU accused of leaving ‘devastating’ copyright ...   \n",
            "3  If the best defence against AI is more AI, thi...   \n",
            "4  AI ‘godfather’ predicts another revolution in ...   \n",
            "\n",
            "                                             context  \n",
            "0  <p>A single researcher with a desktop computer...  \n",
            "1  <p>Two cross-party committees of MPs have urge...  \n",
            "2  <p>An architect of EU copyright law has said l...  \n",
            "3  <p>Oscar Wilde’s quip, “Life imitates art far ...  \n",
            "4  <p>One of the “godfathers” of modern artificia...  \n",
            "Fetched 2623 articles across 14 pages.\n"
          ]
        },
        {
          "output_type": "stream",
          "name": "stderr",
          "text": [
            "\n"
          ]
        }
      ]
    },
    {
      "cell_type": "markdown",
      "source": [
        "# Upload the CSV to S3"
      ],
      "metadata": {
        "id": "n5iWnLV2vwgm"
      }
    },
    {
      "cell_type": "code",
      "source": [
        "import boto3\n",
        "from botocore.config import Config\n",
        "from botocore import UNSIGNED\n",
        "\n",
        "# Team - Specify your team number\n",
        "TEAM = \"TEAM_6/\"  # Change \"TEAM_1\" to \"TEAM_6\"\n",
        "BUCKET_NAME = \"cus635-spring2025\"\n",
        "\n",
        "# Create an anonymous S3 client\n",
        "s3 = boto3.client('s3', config=Config(signature_version=UNSIGNED))\n",
        "\n",
        "# Uploading a file to S3\n",
        "file_name = \"AI_in_Health_Articles.csv\"  # Replace with your CSV file\n",
        "s3.upload_file(file_name, BUCKET_NAME, TEAM + file_name)\n",
        "print(f\"File {file_name} uploaded successfully to {TEAM}{file_name}\")\n"
      ],
      "metadata": {
        "id": "s_XDEzHZv1iM",
        "colab": {
          "base_uri": "https://localhost:8080/"
        },
        "outputId": "16670c42-ab8c-43c9-f1f4-76a7bbf0c26e"
      },
      "execution_count": 15,
      "outputs": [
        {
          "output_type": "stream",
          "name": "stdout",
          "text": [
            "File AI_in_Health_Articles.csv uploaded successfully to TEAM_6/AI_in_Health_Articles.csv\n"
          ]
        }
      ]
    },
    {
      "cell_type": "markdown",
      "source": [
        "# Download a File from S3"
      ],
      "metadata": {
        "id": "45EgxXIhv9l9"
      }
    },
    {
      "cell_type": "code",
      "source": [
        "import boto3\n",
        "from botocore.config import Config\n",
        "from botocore import UNSIGNED\n",
        "\n",
        "# Team - Specify your team number\n",
        "TEAM = \"TEAM_6/\"  # Change \"TEAM_1\" to \"TEAM_6\"\n",
        "BUCKET_NAME = \"cus635-spring2025\"\n",
        "\n",
        "# Create an anonymous S3 client\n",
        "s3 = boto3.client('s3', config=Config(signature_version=UNSIGNED))\n",
        "\n",
        "# Download a file from S3\n",
        "object_name = \"AI_in_Health_Articles.csv\"  # Replace with the file you want to download\n",
        "new_name = \"downloaded_AI_in_Health_Articles.csv\"  # New name for the downloaded file\n",
        "\n",
        "s3.download_file(BUCKET_NAME, TEAM + object_name, new_name)\n",
        "print(f\"File '{TEAM + object_name}' downloaded successfully as '{new_name}'!\")\n"
      ],
      "metadata": {
        "id": "bPluyBvgv_Tq",
        "colab": {
          "base_uri": "https://localhost:8080/"
        },
        "outputId": "1d6e25b5-b207-4b68-8bca-5ccb36b3ed04"
      },
      "execution_count": 16,
      "outputs": [
        {
          "output_type": "stream",
          "name": "stdout",
          "text": [
            "File 'TEAM_6/AI_in_Health_Articles.csv' downloaded successfully as 'downloaded_AI_in_Health_Articles.csv'!\n"
          ]
        }
      ]
    },
    {
      "cell_type": "code",
      "source": [
        "from google.colab import drive\n",
        "drive.mount('/content/drive')\n",
        "\n",
        "# Now, save the file in your Google Drive\n",
        "file_path = '/content/drive/My Drive/AI_in_Health_Articles.csv'\n",
        "df.to_csv(file_path, index=False)\n",
        "print(f\"File saved to Google Drive at {file_path}\")\n"
      ],
      "metadata": {
        "colab": {
          "base_uri": "https://localhost:8080/"
        },
        "id": "i5Fx-c7ST9p-",
        "outputId": "a59c4aa8-f6af-45ab-ad55-ae59fe40d2b9"
      },
      "execution_count": 23,
      "outputs": [
        {
          "output_type": "stream",
          "name": "stdout",
          "text": [
            "Mounted at /content/drive\n",
            "File saved to Google Drive at /content/drive/My Drive/AI_in_Health_Articles.csv\n"
          ]
        }
      ]
    },
    {
      "cell_type": "code",
      "source": [
        "# Try downloading the file to confirm its availability and uploaded to buckeT S3\n",
        "s3.download_file(BUCKET_NAME, \"TEAM_6/AI_in_Health_Articles.csv\", \"downloaded_AI_in_Health_Articles.csv\")\n",
        "print(\"File downloaded successfully!\")\n"
      ],
      "metadata": {
        "colab": {
          "base_uri": "https://localhost:8080/"
        },
        "id": "9fHc4IECU00q",
        "outputId": "ded691dc-c8a4-4204-a09b-c610ffb5cbb9"
      },
      "execution_count": 24,
      "outputs": [
        {
          "output_type": "stream",
          "name": "stdout",
          "text": [
            "File downloaded successfully!\n"
          ]
        }
      ]
    }
  ]
}